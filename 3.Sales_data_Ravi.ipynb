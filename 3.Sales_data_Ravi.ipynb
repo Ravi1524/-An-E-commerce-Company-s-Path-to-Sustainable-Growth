{
  "nbformat": 4,
  "nbformat_minor": 0,
  "metadata": {
    "colab": {
      "provenance": []
    },
    "kernelspec": {
      "name": "python3",
      "display_name": "Python 3"
    },
    "language_info": {
      "name": "python"
    }
  },
  "cells": [
    {
      "cell_type": "code",
      "execution_count": null,
      "metadata": {
        "id": "DKW24ug0knJZ"
      },
      "outputs": [],
      "source": [
        "import pandas as pd\n",
        "import numpy as np\n",
        "import matplotlib.pyplot as plt\n",
        "\n"
      ]
    },
    {
      "cell_type": "code",
      "source": [
        "# Load the sales dataset\n",
        "data = pd.read_csv('/content/sales_dataset.csv')"
      ],
      "metadata": {
        "colab": {
          "base_uri": "https://localhost:8080/"
        },
        "id": "CsU19ohXkzey",
        "outputId": "0e22ad66-2cf0-4b42-b800-2d6156356e9d"
      },
      "execution_count": null,
      "outputs": [
        {
          "output_type": "stream",
          "name": "stderr",
          "text": [
            "<ipython-input-5-b5576c909957>:2: DtypeWarning: Columns (22) have mixed types. Specify dtype option on import or set low_memory=False.\n",
            "  data = pd.read_csv('/content/sales_dataset.csv')\n"
          ]
        }
      ]
    },
    {
      "cell_type": "code",
      "source": [
        "# Step 1: Display the first five rows of the dataset to understand its structure\n",
        "data.head()"
      ],
      "metadata": {
        "colab": {
          "base_uri": "https://localhost:8080/",
          "height": 533
        },
        "id": "8So3pY4jk4LP",
        "outputId": "b6f8477b-cf36-45a8-afb4-826712f629ed"
      },
      "execution_count": null,
      "outputs": [
        {
          "output_type": "execute_result",
          "data": {
            "text/plain": [
              "              Order ID      Date                        Status Fulfilment  \\\n",
              "0  405-8078784-5731545  04-30-22                     Cancelled   Merchant   \n",
              "1  171-9198151-1101146  04-30-22  Shipped - Delivered to Buyer   Merchant   \n",
              "2  404-0687676-7273146  04-30-22                       Shipped     Amazon   \n",
              "3  403-9615377-8133951  04-30-22                     Cancelled   Merchant   \n",
              "4  407-1069790-7240320  04-30-22                       Shipped     Amazon   \n",
              "\n",
              "  Sales Channel  ship-service-level    Style              SKU       Category  \\\n",
              "0      Amazon.in           Standard   SET389   SET389-KR-NP-S            Set   \n",
              "1      Amazon.in           Standard  JNE3781  JNE3781-KR-XXXL          kurta   \n",
              "2      Amazon.in          Expedited  JNE3371    JNE3371-KR-XL          kurta   \n",
              "3      Amazon.in           Standard    J0341       J0341-DR-L  Western Dress   \n",
              "4      Amazon.in          Expedited  JNE3671  JNE3671-TU-XXXL            Top   \n",
              "\n",
              "  Size  ... currency  Amount    ship-city   ship-state  ship-postal-code  \\\n",
              "0    S  ...      INR  647.62       MUMBAI  MAHARASHTRA          400081.0   \n",
              "1  3XL  ...      INR  406.00    BENGALURU    KARNATAKA          560085.0   \n",
              "2   XL  ...      INR  329.00  NAVI MUMBAI  MAHARASHTRA          410210.0   \n",
              "3    L  ...      INR  753.33   PUDUCHERRY   PUDUCHERRY          605008.0   \n",
              "4  3XL  ...      INR  574.00      CHENNAI   TAMIL NADU          600073.0   \n",
              "\n",
              "  ship-country                                      promotion-ids    B2B  \\\n",
              "0           IN                                                NaN  False   \n",
              "1           IN  Amazon PLCC Free-Financing Universal Merchant ...  False   \n",
              "2           IN       IN Core Free Shipping 2015/04/08 23-48-5-108   True   \n",
              "3           IN                                                NaN  False   \n",
              "4           IN                                                NaN  False   \n",
              "\n",
              "  fulfilled-by Unnamed: 22  \n",
              "0    Easy Ship         NaN  \n",
              "1    Easy Ship         NaN  \n",
              "2          NaN         NaN  \n",
              "3    Easy Ship         NaN  \n",
              "4          NaN         NaN  \n",
              "\n",
              "[5 rows x 23 columns]"
            ],
            "text/html": [
              "\n",
              "  <div id=\"df-bd8e721e-c2ca-4ab9-8b74-399bceae76af\" class=\"colab-df-container\">\n",
              "    <div>\n",
              "<style scoped>\n",
              "    .dataframe tbody tr th:only-of-type {\n",
              "        vertical-align: middle;\n",
              "    }\n",
              "\n",
              "    .dataframe tbody tr th {\n",
              "        vertical-align: top;\n",
              "    }\n",
              "\n",
              "    .dataframe thead th {\n",
              "        text-align: right;\n",
              "    }\n",
              "</style>\n",
              "<table border=\"1\" class=\"dataframe\">\n",
              "  <thead>\n",
              "    <tr style=\"text-align: right;\">\n",
              "      <th></th>\n",
              "      <th>Order ID</th>\n",
              "      <th>Date</th>\n",
              "      <th>Status</th>\n",
              "      <th>Fulfilment</th>\n",
              "      <th>Sales Channel</th>\n",
              "      <th>ship-service-level</th>\n",
              "      <th>Style</th>\n",
              "      <th>SKU</th>\n",
              "      <th>Category</th>\n",
              "      <th>Size</th>\n",
              "      <th>...</th>\n",
              "      <th>currency</th>\n",
              "      <th>Amount</th>\n",
              "      <th>ship-city</th>\n",
              "      <th>ship-state</th>\n",
              "      <th>ship-postal-code</th>\n",
              "      <th>ship-country</th>\n",
              "      <th>promotion-ids</th>\n",
              "      <th>B2B</th>\n",
              "      <th>fulfilled-by</th>\n",
              "      <th>Unnamed: 22</th>\n",
              "    </tr>\n",
              "  </thead>\n",
              "  <tbody>\n",
              "    <tr>\n",
              "      <th>0</th>\n",
              "      <td>405-8078784-5731545</td>\n",
              "      <td>04-30-22</td>\n",
              "      <td>Cancelled</td>\n",
              "      <td>Merchant</td>\n",
              "      <td>Amazon.in</td>\n",
              "      <td>Standard</td>\n",
              "      <td>SET389</td>\n",
              "      <td>SET389-KR-NP-S</td>\n",
              "      <td>Set</td>\n",
              "      <td>S</td>\n",
              "      <td>...</td>\n",
              "      <td>INR</td>\n",
              "      <td>647.62</td>\n",
              "      <td>MUMBAI</td>\n",
              "      <td>MAHARASHTRA</td>\n",
              "      <td>400081.0</td>\n",
              "      <td>IN</td>\n",
              "      <td>NaN</td>\n",
              "      <td>False</td>\n",
              "      <td>Easy Ship</td>\n",
              "      <td>NaN</td>\n",
              "    </tr>\n",
              "    <tr>\n",
              "      <th>1</th>\n",
              "      <td>171-9198151-1101146</td>\n",
              "      <td>04-30-22</td>\n",
              "      <td>Shipped - Delivered to Buyer</td>\n",
              "      <td>Merchant</td>\n",
              "      <td>Amazon.in</td>\n",
              "      <td>Standard</td>\n",
              "      <td>JNE3781</td>\n",
              "      <td>JNE3781-KR-XXXL</td>\n",
              "      <td>kurta</td>\n",
              "      <td>3XL</td>\n",
              "      <td>...</td>\n",
              "      <td>INR</td>\n",
              "      <td>406.00</td>\n",
              "      <td>BENGALURU</td>\n",
              "      <td>KARNATAKA</td>\n",
              "      <td>560085.0</td>\n",
              "      <td>IN</td>\n",
              "      <td>Amazon PLCC Free-Financing Universal Merchant ...</td>\n",
              "      <td>False</td>\n",
              "      <td>Easy Ship</td>\n",
              "      <td>NaN</td>\n",
              "    </tr>\n",
              "    <tr>\n",
              "      <th>2</th>\n",
              "      <td>404-0687676-7273146</td>\n",
              "      <td>04-30-22</td>\n",
              "      <td>Shipped</td>\n",
              "      <td>Amazon</td>\n",
              "      <td>Amazon.in</td>\n",
              "      <td>Expedited</td>\n",
              "      <td>JNE3371</td>\n",
              "      <td>JNE3371-KR-XL</td>\n",
              "      <td>kurta</td>\n",
              "      <td>XL</td>\n",
              "      <td>...</td>\n",
              "      <td>INR</td>\n",
              "      <td>329.00</td>\n",
              "      <td>NAVI MUMBAI</td>\n",
              "      <td>MAHARASHTRA</td>\n",
              "      <td>410210.0</td>\n",
              "      <td>IN</td>\n",
              "      <td>IN Core Free Shipping 2015/04/08 23-48-5-108</td>\n",
              "      <td>True</td>\n",
              "      <td>NaN</td>\n",
              "      <td>NaN</td>\n",
              "    </tr>\n",
              "    <tr>\n",
              "      <th>3</th>\n",
              "      <td>403-9615377-8133951</td>\n",
              "      <td>04-30-22</td>\n",
              "      <td>Cancelled</td>\n",
              "      <td>Merchant</td>\n",
              "      <td>Amazon.in</td>\n",
              "      <td>Standard</td>\n",
              "      <td>J0341</td>\n",
              "      <td>J0341-DR-L</td>\n",
              "      <td>Western Dress</td>\n",
              "      <td>L</td>\n",
              "      <td>...</td>\n",
              "      <td>INR</td>\n",
              "      <td>753.33</td>\n",
              "      <td>PUDUCHERRY</td>\n",
              "      <td>PUDUCHERRY</td>\n",
              "      <td>605008.0</td>\n",
              "      <td>IN</td>\n",
              "      <td>NaN</td>\n",
              "      <td>False</td>\n",
              "      <td>Easy Ship</td>\n",
              "      <td>NaN</td>\n",
              "    </tr>\n",
              "    <tr>\n",
              "      <th>4</th>\n",
              "      <td>407-1069790-7240320</td>\n",
              "      <td>04-30-22</td>\n",
              "      <td>Shipped</td>\n",
              "      <td>Amazon</td>\n",
              "      <td>Amazon.in</td>\n",
              "      <td>Expedited</td>\n",
              "      <td>JNE3671</td>\n",
              "      <td>JNE3671-TU-XXXL</td>\n",
              "      <td>Top</td>\n",
              "      <td>3XL</td>\n",
              "      <td>...</td>\n",
              "      <td>INR</td>\n",
              "      <td>574.00</td>\n",
              "      <td>CHENNAI</td>\n",
              "      <td>TAMIL NADU</td>\n",
              "      <td>600073.0</td>\n",
              "      <td>IN</td>\n",
              "      <td>NaN</td>\n",
              "      <td>False</td>\n",
              "      <td>NaN</td>\n",
              "      <td>NaN</td>\n",
              "    </tr>\n",
              "  </tbody>\n",
              "</table>\n",
              "<p>5 rows × 23 columns</p>\n",
              "</div>\n",
              "    <div class=\"colab-df-buttons\">\n",
              "\n",
              "  <div class=\"colab-df-container\">\n",
              "    <button class=\"colab-df-convert\" onclick=\"convertToInteractive('df-bd8e721e-c2ca-4ab9-8b74-399bceae76af')\"\n",
              "            title=\"Convert this dataframe to an interactive table.\"\n",
              "            style=\"display:none;\">\n",
              "\n",
              "  <svg xmlns=\"http://www.w3.org/2000/svg\" height=\"24px\" viewBox=\"0 -960 960 960\">\n",
              "    <path d=\"M120-120v-720h720v720H120Zm60-500h600v-160H180v160Zm220 220h160v-160H400v160Zm0 220h160v-160H400v160ZM180-400h160v-160H180v160Zm440 0h160v-160H620v160ZM180-180h160v-160H180v160Zm440 0h160v-160H620v160Z\"/>\n",
              "  </svg>\n",
              "    </button>\n",
              "\n",
              "  <style>\n",
              "    .colab-df-container {\n",
              "      display:flex;\n",
              "      gap: 12px;\n",
              "    }\n",
              "\n",
              "    .colab-df-convert {\n",
              "      background-color: #E8F0FE;\n",
              "      border: none;\n",
              "      border-radius: 50%;\n",
              "      cursor: pointer;\n",
              "      display: none;\n",
              "      fill: #1967D2;\n",
              "      height: 32px;\n",
              "      padding: 0 0 0 0;\n",
              "      width: 32px;\n",
              "    }\n",
              "\n",
              "    .colab-df-convert:hover {\n",
              "      background-color: #E2EBFA;\n",
              "      box-shadow: 0px 1px 2px rgba(60, 64, 67, 0.3), 0px 1px 3px 1px rgba(60, 64, 67, 0.15);\n",
              "      fill: #174EA6;\n",
              "    }\n",
              "\n",
              "    .colab-df-buttons div {\n",
              "      margin-bottom: 4px;\n",
              "    }\n",
              "\n",
              "    [theme=dark] .colab-df-convert {\n",
              "      background-color: #3B4455;\n",
              "      fill: #D2E3FC;\n",
              "    }\n",
              "\n",
              "    [theme=dark] .colab-df-convert:hover {\n",
              "      background-color: #434B5C;\n",
              "      box-shadow: 0px 1px 3px 1px rgba(0, 0, 0, 0.15);\n",
              "      filter: drop-shadow(0px 1px 2px rgba(0, 0, 0, 0.3));\n",
              "      fill: #FFFFFF;\n",
              "    }\n",
              "  </style>\n",
              "\n",
              "    <script>\n",
              "      const buttonEl =\n",
              "        document.querySelector('#df-bd8e721e-c2ca-4ab9-8b74-399bceae76af button.colab-df-convert');\n",
              "      buttonEl.style.display =\n",
              "        google.colab.kernel.accessAllowed ? 'block' : 'none';\n",
              "\n",
              "      async function convertToInteractive(key) {\n",
              "        const element = document.querySelector('#df-bd8e721e-c2ca-4ab9-8b74-399bceae76af');\n",
              "        const dataTable =\n",
              "          await google.colab.kernel.invokeFunction('convertToInteractive',\n",
              "                                                    [key], {});\n",
              "        if (!dataTable) return;\n",
              "\n",
              "        const docLinkHtml = 'Like what you see? Visit the ' +\n",
              "          '<a target=\"_blank\" href=https://colab.research.google.com/notebooks/data_table.ipynb>data table notebook</a>'\n",
              "          + ' to learn more about interactive tables.';\n",
              "        element.innerHTML = '';\n",
              "        dataTable['output_type'] = 'display_data';\n",
              "        await google.colab.output.renderOutput(dataTable, element);\n",
              "        const docLink = document.createElement('div');\n",
              "        docLink.innerHTML = docLinkHtml;\n",
              "        element.appendChild(docLink);\n",
              "      }\n",
              "    </script>\n",
              "  </div>\n",
              "\n",
              "\n",
              "<div id=\"df-3d371dcb-6795-48d1-b890-51805c70a447\">\n",
              "  <button class=\"colab-df-quickchart\" onclick=\"quickchart('df-3d371dcb-6795-48d1-b890-51805c70a447')\"\n",
              "            title=\"Suggest charts\"\n",
              "            style=\"display:none;\">\n",
              "\n",
              "<svg xmlns=\"http://www.w3.org/2000/svg\" height=\"24px\"viewBox=\"0 0 24 24\"\n",
              "     width=\"24px\">\n",
              "    <g>\n",
              "        <path d=\"M19 3H5c-1.1 0-2 .9-2 2v14c0 1.1.9 2 2 2h14c1.1 0 2-.9 2-2V5c0-1.1-.9-2-2-2zM9 17H7v-7h2v7zm4 0h-2V7h2v10zm4 0h-2v-4h2v4z\"/>\n",
              "    </g>\n",
              "</svg>\n",
              "  </button>\n",
              "\n",
              "<style>\n",
              "  .colab-df-quickchart {\n",
              "      --bg-color: #E8F0FE;\n",
              "      --fill-color: #1967D2;\n",
              "      --hover-bg-color: #E2EBFA;\n",
              "      --hover-fill-color: #174EA6;\n",
              "      --disabled-fill-color: #AAA;\n",
              "      --disabled-bg-color: #DDD;\n",
              "  }\n",
              "\n",
              "  [theme=dark] .colab-df-quickchart {\n",
              "      --bg-color: #3B4455;\n",
              "      --fill-color: #D2E3FC;\n",
              "      --hover-bg-color: #434B5C;\n",
              "      --hover-fill-color: #FFFFFF;\n",
              "      --disabled-bg-color: #3B4455;\n",
              "      --disabled-fill-color: #666;\n",
              "  }\n",
              "\n",
              "  .colab-df-quickchart {\n",
              "    background-color: var(--bg-color);\n",
              "    border: none;\n",
              "    border-radius: 50%;\n",
              "    cursor: pointer;\n",
              "    display: none;\n",
              "    fill: var(--fill-color);\n",
              "    height: 32px;\n",
              "    padding: 0;\n",
              "    width: 32px;\n",
              "  }\n",
              "\n",
              "  .colab-df-quickchart:hover {\n",
              "    background-color: var(--hover-bg-color);\n",
              "    box-shadow: 0 1px 2px rgba(60, 64, 67, 0.3), 0 1px 3px 1px rgba(60, 64, 67, 0.15);\n",
              "    fill: var(--button-hover-fill-color);\n",
              "  }\n",
              "\n",
              "  .colab-df-quickchart-complete:disabled,\n",
              "  .colab-df-quickchart-complete:disabled:hover {\n",
              "    background-color: var(--disabled-bg-color);\n",
              "    fill: var(--disabled-fill-color);\n",
              "    box-shadow: none;\n",
              "  }\n",
              "\n",
              "  .colab-df-spinner {\n",
              "    border: 2px solid var(--fill-color);\n",
              "    border-color: transparent;\n",
              "    border-bottom-color: var(--fill-color);\n",
              "    animation:\n",
              "      spin 1s steps(1) infinite;\n",
              "  }\n",
              "\n",
              "  @keyframes spin {\n",
              "    0% {\n",
              "      border-color: transparent;\n",
              "      border-bottom-color: var(--fill-color);\n",
              "      border-left-color: var(--fill-color);\n",
              "    }\n",
              "    20% {\n",
              "      border-color: transparent;\n",
              "      border-left-color: var(--fill-color);\n",
              "      border-top-color: var(--fill-color);\n",
              "    }\n",
              "    30% {\n",
              "      border-color: transparent;\n",
              "      border-left-color: var(--fill-color);\n",
              "      border-top-color: var(--fill-color);\n",
              "      border-right-color: var(--fill-color);\n",
              "    }\n",
              "    40% {\n",
              "      border-color: transparent;\n",
              "      border-right-color: var(--fill-color);\n",
              "      border-top-color: var(--fill-color);\n",
              "    }\n",
              "    60% {\n",
              "      border-color: transparent;\n",
              "      border-right-color: var(--fill-color);\n",
              "    }\n",
              "    80% {\n",
              "      border-color: transparent;\n",
              "      border-right-color: var(--fill-color);\n",
              "      border-bottom-color: var(--fill-color);\n",
              "    }\n",
              "    90% {\n",
              "      border-color: transparent;\n",
              "      border-bottom-color: var(--fill-color);\n",
              "    }\n",
              "  }\n",
              "</style>\n",
              "\n",
              "  <script>\n",
              "    async function quickchart(key) {\n",
              "      const quickchartButtonEl =\n",
              "        document.querySelector('#' + key + ' button');\n",
              "      quickchartButtonEl.disabled = true;  // To prevent multiple clicks.\n",
              "      quickchartButtonEl.classList.add('colab-df-spinner');\n",
              "      try {\n",
              "        const charts = await google.colab.kernel.invokeFunction(\n",
              "            'suggestCharts', [key], {});\n",
              "      } catch (error) {\n",
              "        console.error('Error during call to suggestCharts:', error);\n",
              "      }\n",
              "      quickchartButtonEl.classList.remove('colab-df-spinner');\n",
              "      quickchartButtonEl.classList.add('colab-df-quickchart-complete');\n",
              "    }\n",
              "    (() => {\n",
              "      let quickchartButtonEl =\n",
              "        document.querySelector('#df-3d371dcb-6795-48d1-b890-51805c70a447 button');\n",
              "      quickchartButtonEl.style.display =\n",
              "        google.colab.kernel.accessAllowed ? 'block' : 'none';\n",
              "    })();\n",
              "  </script>\n",
              "</div>\n",
              "\n",
              "    </div>\n",
              "  </div>\n"
            ],
            "application/vnd.google.colaboratory.intrinsic+json": {
              "type": "dataframe",
              "variable_name": "data"
            }
          },
          "metadata": {},
          "execution_count": 6
        }
      ]
    },
    {
      "cell_type": "code",
      "source": [
        "# Remove Duplicate\n",
        "data = data.drop_duplicates()\n"
      ],
      "metadata": {
        "id": "uvA_-nr1mHtW"
      },
      "execution_count": null,
      "outputs": []
    },
    {
      "cell_type": "code",
      "source": [
        "# Set the 'Amount' to 0 for orders with 'Cancelled' status\n",
        "data.loc[data['Status'] == 'Cancelled', 'Amount'] = 0"
      ],
      "metadata": {
        "id": "iM5STNp9nXBt"
      },
      "execution_count": null,
      "outputs": []
    },
    {
      "cell_type": "code",
      "source": [
        "# Replace Null Value By median of Data\n",
        "data['Amount'].fillna(data['Amount'].median(), inplace=True)"
      ],
      "metadata": {
        "colab": {
          "base_uri": "https://localhost:8080/"
        },
        "id": "XVMQPBA5n2kQ",
        "outputId": "4cf304f5-eee5-4c51-8291-c50e168311dc"
      },
      "execution_count": null,
      "outputs": [
        {
          "output_type": "stream",
          "name": "stderr",
          "text": [
            "<ipython-input-9-8457bb25455b>:2: FutureWarning: A value is trying to be set on a copy of a DataFrame or Series through chained assignment using an inplace method.\n",
            "The behavior will change in pandas 3.0. This inplace method will never work because the intermediate object on which we are setting values always behaves as a copy.\n",
            "\n",
            "For example, when doing 'df[col].method(value, inplace=True)', try using 'df.method({col: value}, inplace=True)' or df[col] = df[col].method(value) instead, to perform the operation inplace on the original object.\n",
            "\n",
            "\n",
            "  data['Amount'].fillna(data['Amount'].median(), inplace=True)\n"
          ]
        }
      ]
    },
    {
      "cell_type": "code",
      "source": [
        "data.info()"
      ],
      "metadata": {
        "colab": {
          "base_uri": "https://localhost:8080/"
        },
        "id": "O3M2QZ0zoevf",
        "outputId": "e06c9c78-ae5c-4097-ce91-40da1a82340e"
      },
      "execution_count": null,
      "outputs": [
        {
          "output_type": "stream",
          "name": "stdout",
          "text": [
            "<class 'pandas.core.frame.DataFrame'>\n",
            "Index: 128943 entries, 0 to 128948\n",
            "Data columns (total 23 columns):\n",
            " #   Column              Non-Null Count   Dtype  \n",
            "---  ------              --------------   -----  \n",
            " 0   Order ID            128943 non-null  object \n",
            " 1   Date                128943 non-null  object \n",
            " 2   Status              128943 non-null  object \n",
            " 3   Fulfilment          128943 non-null  object \n",
            " 4   Sales Channel       128943 non-null  object \n",
            " 5   ship-service-level  128943 non-null  object \n",
            " 6   Style               128943 non-null  object \n",
            " 7   SKU                 128943 non-null  object \n",
            " 8   Category            128943 non-null  object \n",
            " 9   Size                128943 non-null  object \n",
            " 10  ASIN                128943 non-null  object \n",
            " 11  Courier Status      122072 non-null  object \n",
            " 12  Qty                 128943 non-null  int64  \n",
            " 13  currency            121152 non-null  object \n",
            " 14  Amount              128943 non-null  float64\n",
            " 15  ship-city           128910 non-null  object \n",
            " 16  ship-state          128910 non-null  object \n",
            " 17  ship-postal-code    128910 non-null  float64\n",
            " 18  ship-country        128910 non-null  object \n",
            " 19  promotion-ids       79804 non-null   object \n",
            " 20  B2B                 128943 non-null  bool   \n",
            " 21  fulfilled-by        39270 non-null   object \n",
            " 22  Unnamed: 22         79904 non-null   object \n",
            "dtypes: bool(1), float64(2), int64(1), object(19)\n",
            "memory usage: 22.7+ MB\n"
          ]
        }
      ]
    },
    {
      "cell_type": "code",
      "source": [
        "data.describe()"
      ],
      "metadata": {
        "colab": {
          "base_uri": "https://localhost:8080/",
          "height": 300
        },
        "id": "FMp9IV-lohqF",
        "outputId": "433c7b88-9078-4ace-ecbe-2f2032c6bfa4"
      },
      "execution_count": null,
      "outputs": [
        {
          "output_type": "execute_result",
          "data": {
            "text/plain": [
              "                 Qty         Amount  ship-postal-code\n",
              "count  128943.000000  128943.000000      128910.00000\n",
              "mean        0.904648     556.620473      463978.72546\n",
              "std         0.314758     346.485412      191471.57590\n",
              "min         0.000000       0.000000      110001.00000\n",
              "25%         1.000000     376.000000      382421.00000\n",
              "50%         1.000000     545.000000      500033.00000\n",
              "75%         1.000000     760.000000      600024.00000\n",
              "max        15.000000    5584.000000      989898.00000"
            ],
            "text/html": [
              "\n",
              "  <div id=\"df-13752732-aafe-4a17-a171-4f7bb7fdbca9\" class=\"colab-df-container\">\n",
              "    <div>\n",
              "<style scoped>\n",
              "    .dataframe tbody tr th:only-of-type {\n",
              "        vertical-align: middle;\n",
              "    }\n",
              "\n",
              "    .dataframe tbody tr th {\n",
              "        vertical-align: top;\n",
              "    }\n",
              "\n",
              "    .dataframe thead th {\n",
              "        text-align: right;\n",
              "    }\n",
              "</style>\n",
              "<table border=\"1\" class=\"dataframe\">\n",
              "  <thead>\n",
              "    <tr style=\"text-align: right;\">\n",
              "      <th></th>\n",
              "      <th>Qty</th>\n",
              "      <th>Amount</th>\n",
              "      <th>ship-postal-code</th>\n",
              "    </tr>\n",
              "  </thead>\n",
              "  <tbody>\n",
              "    <tr>\n",
              "      <th>count</th>\n",
              "      <td>128943.000000</td>\n",
              "      <td>128943.000000</td>\n",
              "      <td>128910.00000</td>\n",
              "    </tr>\n",
              "    <tr>\n",
              "      <th>mean</th>\n",
              "      <td>0.904648</td>\n",
              "      <td>556.620473</td>\n",
              "      <td>463978.72546</td>\n",
              "    </tr>\n",
              "    <tr>\n",
              "      <th>std</th>\n",
              "      <td>0.314758</td>\n",
              "      <td>346.485412</td>\n",
              "      <td>191471.57590</td>\n",
              "    </tr>\n",
              "    <tr>\n",
              "      <th>min</th>\n",
              "      <td>0.000000</td>\n",
              "      <td>0.000000</td>\n",
              "      <td>110001.00000</td>\n",
              "    </tr>\n",
              "    <tr>\n",
              "      <th>25%</th>\n",
              "      <td>1.000000</td>\n",
              "      <td>376.000000</td>\n",
              "      <td>382421.00000</td>\n",
              "    </tr>\n",
              "    <tr>\n",
              "      <th>50%</th>\n",
              "      <td>1.000000</td>\n",
              "      <td>545.000000</td>\n",
              "      <td>500033.00000</td>\n",
              "    </tr>\n",
              "    <tr>\n",
              "      <th>75%</th>\n",
              "      <td>1.000000</td>\n",
              "      <td>760.000000</td>\n",
              "      <td>600024.00000</td>\n",
              "    </tr>\n",
              "    <tr>\n",
              "      <th>max</th>\n",
              "      <td>15.000000</td>\n",
              "      <td>5584.000000</td>\n",
              "      <td>989898.00000</td>\n",
              "    </tr>\n",
              "  </tbody>\n",
              "</table>\n",
              "</div>\n",
              "    <div class=\"colab-df-buttons\">\n",
              "\n",
              "  <div class=\"colab-df-container\">\n",
              "    <button class=\"colab-df-convert\" onclick=\"convertToInteractive('df-13752732-aafe-4a17-a171-4f7bb7fdbca9')\"\n",
              "            title=\"Convert this dataframe to an interactive table.\"\n",
              "            style=\"display:none;\">\n",
              "\n",
              "  <svg xmlns=\"http://www.w3.org/2000/svg\" height=\"24px\" viewBox=\"0 -960 960 960\">\n",
              "    <path d=\"M120-120v-720h720v720H120Zm60-500h600v-160H180v160Zm220 220h160v-160H400v160Zm0 220h160v-160H400v160ZM180-400h160v-160H180v160Zm440 0h160v-160H620v160ZM180-180h160v-160H180v160Zm440 0h160v-160H620v160Z\"/>\n",
              "  </svg>\n",
              "    </button>\n",
              "\n",
              "  <style>\n",
              "    .colab-df-container {\n",
              "      display:flex;\n",
              "      gap: 12px;\n",
              "    }\n",
              "\n",
              "    .colab-df-convert {\n",
              "      background-color: #E8F0FE;\n",
              "      border: none;\n",
              "      border-radius: 50%;\n",
              "      cursor: pointer;\n",
              "      display: none;\n",
              "      fill: #1967D2;\n",
              "      height: 32px;\n",
              "      padding: 0 0 0 0;\n",
              "      width: 32px;\n",
              "    }\n",
              "\n",
              "    .colab-df-convert:hover {\n",
              "      background-color: #E2EBFA;\n",
              "      box-shadow: 0px 1px 2px rgba(60, 64, 67, 0.3), 0px 1px 3px 1px rgba(60, 64, 67, 0.15);\n",
              "      fill: #174EA6;\n",
              "    }\n",
              "\n",
              "    .colab-df-buttons div {\n",
              "      margin-bottom: 4px;\n",
              "    }\n",
              "\n",
              "    [theme=dark] .colab-df-convert {\n",
              "      background-color: #3B4455;\n",
              "      fill: #D2E3FC;\n",
              "    }\n",
              "\n",
              "    [theme=dark] .colab-df-convert:hover {\n",
              "      background-color: #434B5C;\n",
              "      box-shadow: 0px 1px 3px 1px rgba(0, 0, 0, 0.15);\n",
              "      filter: drop-shadow(0px 1px 2px rgba(0, 0, 0, 0.3));\n",
              "      fill: #FFFFFF;\n",
              "    }\n",
              "  </style>\n",
              "\n",
              "    <script>\n",
              "      const buttonEl =\n",
              "        document.querySelector('#df-13752732-aafe-4a17-a171-4f7bb7fdbca9 button.colab-df-convert');\n",
              "      buttonEl.style.display =\n",
              "        google.colab.kernel.accessAllowed ? 'block' : 'none';\n",
              "\n",
              "      async function convertToInteractive(key) {\n",
              "        const element = document.querySelector('#df-13752732-aafe-4a17-a171-4f7bb7fdbca9');\n",
              "        const dataTable =\n",
              "          await google.colab.kernel.invokeFunction('convertToInteractive',\n",
              "                                                    [key], {});\n",
              "        if (!dataTable) return;\n",
              "\n",
              "        const docLinkHtml = 'Like what you see? Visit the ' +\n",
              "          '<a target=\"_blank\" href=https://colab.research.google.com/notebooks/data_table.ipynb>data table notebook</a>'\n",
              "          + ' to learn more about interactive tables.';\n",
              "        element.innerHTML = '';\n",
              "        dataTable['output_type'] = 'display_data';\n",
              "        await google.colab.output.renderOutput(dataTable, element);\n",
              "        const docLink = document.createElement('div');\n",
              "        docLink.innerHTML = docLinkHtml;\n",
              "        element.appendChild(docLink);\n",
              "      }\n",
              "    </script>\n",
              "  </div>\n",
              "\n",
              "\n",
              "<div id=\"df-53433195-e773-4408-bb77-11a7a647805e\">\n",
              "  <button class=\"colab-df-quickchart\" onclick=\"quickchart('df-53433195-e773-4408-bb77-11a7a647805e')\"\n",
              "            title=\"Suggest charts\"\n",
              "            style=\"display:none;\">\n",
              "\n",
              "<svg xmlns=\"http://www.w3.org/2000/svg\" height=\"24px\"viewBox=\"0 0 24 24\"\n",
              "     width=\"24px\">\n",
              "    <g>\n",
              "        <path d=\"M19 3H5c-1.1 0-2 .9-2 2v14c0 1.1.9 2 2 2h14c1.1 0 2-.9 2-2V5c0-1.1-.9-2-2-2zM9 17H7v-7h2v7zm4 0h-2V7h2v10zm4 0h-2v-4h2v4z\"/>\n",
              "    </g>\n",
              "</svg>\n",
              "  </button>\n",
              "\n",
              "<style>\n",
              "  .colab-df-quickchart {\n",
              "      --bg-color: #E8F0FE;\n",
              "      --fill-color: #1967D2;\n",
              "      --hover-bg-color: #E2EBFA;\n",
              "      --hover-fill-color: #174EA6;\n",
              "      --disabled-fill-color: #AAA;\n",
              "      --disabled-bg-color: #DDD;\n",
              "  }\n",
              "\n",
              "  [theme=dark] .colab-df-quickchart {\n",
              "      --bg-color: #3B4455;\n",
              "      --fill-color: #D2E3FC;\n",
              "      --hover-bg-color: #434B5C;\n",
              "      --hover-fill-color: #FFFFFF;\n",
              "      --disabled-bg-color: #3B4455;\n",
              "      --disabled-fill-color: #666;\n",
              "  }\n",
              "\n",
              "  .colab-df-quickchart {\n",
              "    background-color: var(--bg-color);\n",
              "    border: none;\n",
              "    border-radius: 50%;\n",
              "    cursor: pointer;\n",
              "    display: none;\n",
              "    fill: var(--fill-color);\n",
              "    height: 32px;\n",
              "    padding: 0;\n",
              "    width: 32px;\n",
              "  }\n",
              "\n",
              "  .colab-df-quickchart:hover {\n",
              "    background-color: var(--hover-bg-color);\n",
              "    box-shadow: 0 1px 2px rgba(60, 64, 67, 0.3), 0 1px 3px 1px rgba(60, 64, 67, 0.15);\n",
              "    fill: var(--button-hover-fill-color);\n",
              "  }\n",
              "\n",
              "  .colab-df-quickchart-complete:disabled,\n",
              "  .colab-df-quickchart-complete:disabled:hover {\n",
              "    background-color: var(--disabled-bg-color);\n",
              "    fill: var(--disabled-fill-color);\n",
              "    box-shadow: none;\n",
              "  }\n",
              "\n",
              "  .colab-df-spinner {\n",
              "    border: 2px solid var(--fill-color);\n",
              "    border-color: transparent;\n",
              "    border-bottom-color: var(--fill-color);\n",
              "    animation:\n",
              "      spin 1s steps(1) infinite;\n",
              "  }\n",
              "\n",
              "  @keyframes spin {\n",
              "    0% {\n",
              "      border-color: transparent;\n",
              "      border-bottom-color: var(--fill-color);\n",
              "      border-left-color: var(--fill-color);\n",
              "    }\n",
              "    20% {\n",
              "      border-color: transparent;\n",
              "      border-left-color: var(--fill-color);\n",
              "      border-top-color: var(--fill-color);\n",
              "    }\n",
              "    30% {\n",
              "      border-color: transparent;\n",
              "      border-left-color: var(--fill-color);\n",
              "      border-top-color: var(--fill-color);\n",
              "      border-right-color: var(--fill-color);\n",
              "    }\n",
              "    40% {\n",
              "      border-color: transparent;\n",
              "      border-right-color: var(--fill-color);\n",
              "      border-top-color: var(--fill-color);\n",
              "    }\n",
              "    60% {\n",
              "      border-color: transparent;\n",
              "      border-right-color: var(--fill-color);\n",
              "    }\n",
              "    80% {\n",
              "      border-color: transparent;\n",
              "      border-right-color: var(--fill-color);\n",
              "      border-bottom-color: var(--fill-color);\n",
              "    }\n",
              "    90% {\n",
              "      border-color: transparent;\n",
              "      border-bottom-color: var(--fill-color);\n",
              "    }\n",
              "  }\n",
              "</style>\n",
              "\n",
              "  <script>\n",
              "    async function quickchart(key) {\n",
              "      const quickchartButtonEl =\n",
              "        document.querySelector('#' + key + ' button');\n",
              "      quickchartButtonEl.disabled = true;  // To prevent multiple clicks.\n",
              "      quickchartButtonEl.classList.add('colab-df-spinner');\n",
              "      try {\n",
              "        const charts = await google.colab.kernel.invokeFunction(\n",
              "            'suggestCharts', [key], {});\n",
              "      } catch (error) {\n",
              "        console.error('Error during call to suggestCharts:', error);\n",
              "      }\n",
              "      quickchartButtonEl.classList.remove('colab-df-spinner');\n",
              "      quickchartButtonEl.classList.add('colab-df-quickchart-complete');\n",
              "    }\n",
              "    (() => {\n",
              "      let quickchartButtonEl =\n",
              "        document.querySelector('#df-53433195-e773-4408-bb77-11a7a647805e button');\n",
              "      quickchartButtonEl.style.display =\n",
              "        google.colab.kernel.accessAllowed ? 'block' : 'none';\n",
              "    })();\n",
              "  </script>\n",
              "</div>\n",
              "\n",
              "    </div>\n",
              "  </div>\n"
            ],
            "application/vnd.google.colaboratory.intrinsic+json": {
              "type": "dataframe",
              "summary": "{\n  \"name\": \"data\",\n  \"rows\": 8,\n  \"fields\": [\n    {\n      \"column\": \"Qty\",\n      \"properties\": {\n        \"dtype\": \"number\",\n        \"std\": 45587.26439266769,\n        \"min\": 0.0,\n        \"max\": 128943.0,\n        \"num_unique_values\": 6,\n        \"samples\": [\n          128943.0,\n          0.9046477901088078,\n          15.0\n        ],\n        \"semantic_type\": \"\",\n        \"description\": \"\"\n      }\n    },\n    {\n      \"column\": \"Amount\",\n      \"properties\": {\n        \"dtype\": \"number\",\n        \"std\": 45212.18588087844,\n        \"min\": 0.0,\n        \"max\": 128943.0,\n        \"num_unique_values\": 8,\n        \"samples\": [\n          556.6204727670366,\n          545.0,\n          128943.0\n        ],\n        \"semantic_type\": \"\",\n        \"description\": \"\"\n      }\n    },\n    {\n      \"column\": \"ship-postal-code\",\n      \"properties\": {\n        \"dtype\": \"number\",\n        \"std\": 292769.11830260186,\n        \"min\": 110001.0,\n        \"max\": 989898.0,\n        \"num_unique_values\": 8,\n        \"samples\": [\n          463978.725459623,\n          500033.0,\n          128910.0\n        ],\n        \"semantic_type\": \"\",\n        \"description\": \"\"\n      }\n    }\n  ]\n}"
            }
          },
          "metadata": {},
          "execution_count": 12
        }
      ]
    },
    {
      "cell_type": "markdown",
      "source": [
        "# Total Revenue"
      ],
      "metadata": {
        "id": "4ctHNZAEo1SH"
      }
    },
    {
      "cell_type": "code",
      "source": [
        "total_revenue = data['Amount'].sum()\n",
        "total_revenue"
      ],
      "metadata": {
        "colab": {
          "base_uri": "https://localhost:8080/"
        },
        "id": "jwIHwH43oqZy",
        "outputId": "c6c6d5b4-b05d-43e7-ad1b-8d705b780ddd"
      },
      "execution_count": null,
      "outputs": [
        {
          "output_type": "execute_result",
          "data": {
            "text/plain": [
              "71772313.62"
            ]
          },
          "metadata": {},
          "execution_count": 13
        }
      ]
    },
    {
      "cell_type": "markdown",
      "source": [
        "# Top Selling Product Category by Quantity"
      ],
      "metadata": {
        "id": "6Ri3C3aRrBwk"
      }
    },
    {
      "cell_type": "code",
      "source": [
        "top_selling_products = data.groupby('Category')['Qty'].sum().sort_values(ascending=False).head(5)\n",
        "top_selling_products"
      ],
      "metadata": {
        "colab": {
          "base_uri": "https://localhost:8080/",
          "height": 272
        },
        "id": "RwAtlaxhqHfI",
        "outputId": "2302ba67-69b0-46af-a22e-62066aa8c584"
      },
      "execution_count": null,
      "outputs": [
        {
          "output_type": "execute_result",
          "data": {
            "text/plain": [
              "Category\n",
              "Set              45286\n",
              "kurta            45048\n",
              "Western Dress    13943\n",
              "Top               9902\n",
              "Ethnic Dress      1052\n",
              "Name: Qty, dtype: int64"
            ],
            "text/html": [
              "<div>\n",
              "<style scoped>\n",
              "    .dataframe tbody tr th:only-of-type {\n",
              "        vertical-align: middle;\n",
              "    }\n",
              "\n",
              "    .dataframe tbody tr th {\n",
              "        vertical-align: top;\n",
              "    }\n",
              "\n",
              "    .dataframe thead th {\n",
              "        text-align: right;\n",
              "    }\n",
              "</style>\n",
              "<table border=\"1\" class=\"dataframe\">\n",
              "  <thead>\n",
              "    <tr style=\"text-align: right;\">\n",
              "      <th></th>\n",
              "      <th>Qty</th>\n",
              "    </tr>\n",
              "    <tr>\n",
              "      <th>Category</th>\n",
              "      <th></th>\n",
              "    </tr>\n",
              "  </thead>\n",
              "  <tbody>\n",
              "    <tr>\n",
              "      <th>Set</th>\n",
              "      <td>45286</td>\n",
              "    </tr>\n",
              "    <tr>\n",
              "      <th>kurta</th>\n",
              "      <td>45048</td>\n",
              "    </tr>\n",
              "    <tr>\n",
              "      <th>Western Dress</th>\n",
              "      <td>13943</td>\n",
              "    </tr>\n",
              "    <tr>\n",
              "      <th>Top</th>\n",
              "      <td>9902</td>\n",
              "    </tr>\n",
              "    <tr>\n",
              "      <th>Ethnic Dress</th>\n",
              "      <td>1052</td>\n",
              "    </tr>\n",
              "  </tbody>\n",
              "</table>\n",
              "</div><br><label><b>dtype:</b> int64</label>"
            ]
          },
          "metadata": {},
          "execution_count": 14
        }
      ]
    },
    {
      "cell_type": "code",
      "source": [
        "# Top-Selling Products\n",
        "plt.figure(figsize=(12, 6))\n",
        "top_selling_products.plot(kind='bar', color='salmon')\n",
        "plt.title('Top Selling Products')\n",
        "plt.ylabel('Quantity (INR)')\n",
        "plt.xlabel('Product Category')\n",
        "plt.xticks(rotation=30)\n",
        "plt.show()"
      ],
      "metadata": {
        "colab": {
          "base_uri": "https://localhost:8080/",
          "height": 612
        },
        "id": "K0G0xNzbqHbu",
        "outputId": "5c2af4f3-731d-41c1-be5a-e62ea53a566b"
      },
      "execution_count": null,
      "outputs": [
        {
          "output_type": "display_data",
          "data": {
            "text/plain": [
              "<Figure size 1200x600 with 1 Axes>"
            ],
            "image/png": "[encoded data removed]"
          },
          "metadata": {}
        }
      ]
    },
    {
      "cell_type": "markdown",
      "source": [
        "# Average Order Value"
      ],
      "metadata": {
        "id": "PkCFGMRZsW7E"
      }
    },
    {
      "cell_type": "code",
      "source": [
        "average_order_value = data.groupby('Order ID')['Amount'].sum().mean()\n",
        "average_order_value"
      ],
      "metadata": {
        "colab": {
          "base_uri": "https://localhost:8080/"
        },
        "id": "by0dFj3JqHYR",
        "outputId": "6362c096-152e-4a90-a812-a3458e6aa107"
      },
      "execution_count": null,
      "outputs": [
        {
          "output_type": "execute_result",
          "data": {
            "text/plain": [
              "596.3533104559958"
            ]
          },
          "metadata": {},
          "execution_count": 16
        }
      ]
    },
    {
      "cell_type": "markdown",
      "source": [
        "# Identify Peak Sales by week days"
      ],
      "metadata": {
        "id": "4US2IGIatPNz"
      }
    },
    {
      "cell_type": "code",
      "source": [
        "# Ensure 'Date' is in datetime format\n",
        "data['Date'] = pd.to_datetime(data['Date'], errors='coerce')\n",
        "\n",
        "# Check if the conversion was successful\n",
        "data['Date'].dtype\n",
        "\n",
        "# Now, group the data by day of the week and calculate total sales for each day\n",
        "weekday_sales_amount = data.groupby(data['Date'].dt.day_name())['Amount'].sum()\n",
        "\n",
        "# Display total sales for each day of the week\n",
        "weekday_sales_amount_sorted = weekday_sales_amount.reindex(['Sunday','Monday', 'Tuesday', 'Wednesday', 'Thursday', 'Friday', 'Saturday'])\n",
        "\n",
        "# Show the sales amount for each day of the week\n",
        "weekday_sales_amount_sorted"
      ],
      "metadata": {
        "colab": {
          "base_uri": "https://localhost:8080/",
          "height": 335
        },
        "id": "gY7CES6-qHRk",
        "outputId": "178d2bc2-f27a-455f-c8f2-d274b8f9af5c"
      },
      "execution_count": null,
      "outputs": [
        {
          "output_type": "execute_result",
          "data": {
            "text/plain": [
              "Date\n",
              "Sunday       11009906.00\n",
              "Monday       10301495.00\n",
              "Tuesday      10489883.00\n",
              "Wednesday    10315712.00\n",
              "Thursday      9490909.00\n",
              "Friday        9861726.00\n",
              "Saturday     10302682.62\n",
              "Name: Amount, dtype: float64"
            ],
            "text/html": [
              "<div>\n",
              "<style scoped>\n",
              "    .dataframe tbody tr th:only-of-type {\n",
              "        vertical-align: middle;\n",
              "    }\n",
              "\n",
              "    .dataframe tbody tr th {\n",
              "        vertical-align: top;\n",
              "    }\n",
              "\n",
              "    .dataframe thead th {\n",
              "        text-align: right;\n",
              "    }\n",
              "</style>\n",
              "<table border=\"1\" class=\"dataframe\">\n",
              "  <thead>\n",
              "    <tr style=\"text-align: right;\">\n",
              "      <th></th>\n",
              "      <th>Amount</th>\n",
              "    </tr>\n",
              "    <tr>\n",
              "      <th>Date</th>\n",
              "      <th></th>\n",
              "    </tr>\n",
              "  </thead>\n",
              "  <tbody>\n",
              "    <tr>\n",
              "      <th>Sunday</th>\n",
              "      <td>11009906.00</td>\n",
              "    </tr>\n",
              "    <tr>\n",
              "      <th>Monday</th>\n",
              "      <td>10301495.00</td>\n",
              "    </tr>\n",
              "    <tr>\n",
              "      <th>Tuesday</th>\n",
              "      <td>10489883.00</td>\n",
              "    </tr>\n",
              "    <tr>\n",
              "      <th>Wednesday</th>\n",
              "      <td>10315712.00</td>\n",
              "    </tr>\n",
              "    <tr>\n",
              "      <th>Thursday</th>\n",
              "      <td>9490909.00</td>\n",
              "    </tr>\n",
              "    <tr>\n",
              "      <th>Friday</th>\n",
              "      <td>9861726.00</td>\n",
              "    </tr>\n",
              "    <tr>\n",
              "      <th>Saturday</th>\n",
              "      <td>10302682.62</td>\n",
              "    </tr>\n",
              "  </tbody>\n",
              "</table>\n",
              "</div><br><label><b>dtype:</b> float64</label>"
            ]
          },
          "metadata": {},
          "execution_count": 15
        }
      ]
    },
    {
      "cell_type": "code",
      "source": [
        "# Create a bar chart for sales by weekday\n",
        "plt.figure(figsize=(10, 6))\n",
        "weekday_sales_amount_sorted.plot(kind='bar', color='lightcoral')\n",
        "plt.style.use('seaborn-pastel')\n",
        "plt.title('Total Sales by Day of the Week')\n",
        "plt.xlabel('Day of the Week')\n",
        "plt.ylabel('Total Revenue (INR)')\n",
        "plt.xticks(rotation=45)\n",
        "plt.grid(axis='y', linestyle='--', alpha=0.7)\n",
        "plt.show()"
      ],
      "metadata": {
        "colab": {
          "base_uri": "https://localhost:8080/",
          "height": 674
        },
        "id": "6oJ9Nt0AqHON",
        "outputId": "6c1d8087-b609-4037-8091-bee0ef1b21b7"
      },
      "execution_count": null,
      "outputs": [
        {
          "output_type": "stream",
          "name": "stderr",
          "text": [
            "<ipython-input-17-d4724715d1ed>:4: MatplotlibDeprecationWarning: The seaborn styles shipped by Matplotlib are deprecated since 3.6, as they no longer correspond to the styles shipped by seaborn. However, they will remain available as 'seaborn-v0_8-<style>'. Alternatively, directly use the seaborn API instead.\n",
            "  plt.style.use('seaborn-pastel')\n"
          ]
        },
        {
          "output_type": "display_data",
          "data": {
            "text/plain": [
              "<Figure size 1000x600 with 1 Axes>"
            ],
            "image/png": "[encoded data removed]"
          },
          "metadata": {}
        }
      ]
    },
    {
      "cell_type": "markdown",
      "source": [
        "# Top Performing Location by Revenue"
      ],
      "metadata": {
        "id": "zcP-z9iwuT85"
      }
    },
    {
      "cell_type": "code",
      "source": [
        "top_locations = data.groupby('ship-city')['Amount'].sum().sort_values(ascending=False).head(5)\n",
        "top_locations"
      ],
      "metadata": {
        "colab": {
          "base_uri": "https://localhost:8080/",
          "height": 272
        },
        "id": "C5VkXVpcqHJ9",
        "outputId": "f913d867-e4c8-4d83-dd57-aacdea34f499"
      },
      "execution_count": null,
      "outputs": [
        {
          "output_type": "execute_result",
          "data": {
            "text/plain": [
              "ship-city\n",
              "BENGALURU    6349713.00\n",
              "HYDERABAD    4499883.57\n",
              "MUMBAI       3400494.00\n",
              "NEW DELHI    3331168.48\n",
              "CHENNAI      2823610.00\n",
              "Name: Amount, dtype: float64"
            ],
            "text/html": [
              "<div>\n",
              "<style scoped>\n",
              "    .dataframe tbody tr th:only-of-type {\n",
              "        vertical-align: middle;\n",
              "    }\n",
              "\n",
              "    .dataframe tbody tr th {\n",
              "        vertical-align: top;\n",
              "    }\n",
              "\n",
              "    .dataframe thead th {\n",
              "        text-align: right;\n",
              "    }\n",
              "</style>\n",
              "<table border=\"1\" class=\"dataframe\">\n",
              "  <thead>\n",
              "    <tr style=\"text-align: right;\">\n",
              "      <th></th>\n",
              "      <th>Amount</th>\n",
              "    </tr>\n",
              "    <tr>\n",
              "      <th>ship-city</th>\n",
              "      <th></th>\n",
              "    </tr>\n",
              "  </thead>\n",
              "  <tbody>\n",
              "    <tr>\n",
              "      <th>BENGALURU</th>\n",
              "      <td>6349713.00</td>\n",
              "    </tr>\n",
              "    <tr>\n",
              "      <th>HYDERABAD</th>\n",
              "      <td>4499883.57</td>\n",
              "    </tr>\n",
              "    <tr>\n",
              "      <th>MUMBAI</th>\n",
              "      <td>3400494.00</td>\n",
              "    </tr>\n",
              "    <tr>\n",
              "      <th>NEW DELHI</th>\n",
              "      <td>3331168.48</td>\n",
              "    </tr>\n",
              "    <tr>\n",
              "      <th>CHENNAI</th>\n",
              "      <td>2823610.00</td>\n",
              "    </tr>\n",
              "  </tbody>\n",
              "</table>\n",
              "</div><br><label><b>dtype:</b> float64</label>"
            ]
          },
          "metadata": {},
          "execution_count": 31
        }
      ]
    },
    {
      "cell_type": "code",
      "source": [
        "# Create a bar chart for the top 5 locations\n",
        "plt.figure(figsize=(10, 6))\n",
        "top_locations.plot(kind='bar', color='skyblue')\n",
        "plt.title('Top 5 Performing Locations by Revenue')\n",
        "plt.xlabel('City')\n",
        "plt.ylabel('Total Revenue (INR)')\n",
        "plt.xticks(rotation=45)\n",
        "plt.grid(axis='y', linestyle='--', alpha=0.7)\n",
        "plt.show()\n"
      ],
      "metadata": {
        "colab": {
          "base_uri": "https://localhost:8080/",
          "height": 621
        },
        "id": "CQNUXjQjqHB9",
        "outputId": "8ce09760-c948-40ac-f5fa-7640c25540af"
      },
      "execution_count": null,
      "outputs": [
        {
          "output_type": "display_data",
          "data": {
            "text/plain": [
              "<Figure size 1000x600 with 1 Axes>"
            ],
            "image/png": "[encoded data removed]"
          },
          "metadata": {}
        }
      ]
    },
    {
      "cell_type": "markdown",
      "source": [
        "# Differentiating B2B vs B2C"
      ],
      "metadata": {
        "id": "9Cbdvvnz6iGe"
      }
    },
    {
      "cell_type": "code",
      "source": [
        "b2b_orders = data[data['B2B'] == True].shape[0]\n",
        "b2c_orders = data[data['B2B'] == False].shape[0]"
      ],
      "metadata": {
        "id": "QFF_U6mSqGzt"
      },
      "execution_count": null,
      "outputs": []
    },
    {
      "cell_type": "code",
      "source": [
        "b2b_orders"
      ],
      "metadata": {
        "colab": {
          "base_uri": "https://localhost:8080/"
        },
        "id": "G3TR1PG9Si-v",
        "outputId": "d9ff674b-ab17-4007-a9b3-117d82be9b33"
      },
      "execution_count": null,
      "outputs": [
        {
          "output_type": "execute_result",
          "data": {
            "text/plain": [
              "871"
            ]
          },
          "metadata": {},
          "execution_count": 18
        }
      ]
    },
    {
      "cell_type": "code",
      "source": [
        "b2c_orders"
      ],
      "metadata": {
        "colab": {
          "base_uri": "https://localhost:8080/"
        },
        "id": "PPqdUB5cSiz_",
        "outputId": "31335c42-a8ba-4327-e78a-45c7b6196be5"
      },
      "execution_count": null,
      "outputs": [
        {
          "output_type": "execute_result",
          "data": {
            "text/plain": [
              "128072"
            ]
          },
          "metadata": {},
          "execution_count": 19
        }
      ]
    },
    {
      "cell_type": "markdown",
      "source": [
        "#  percentage of orders fulfilled by Amazon vs Merchant"
      ],
      "metadata": {
        "id": "jVmD7K382SKL"
      }
    },
    {
      "cell_type": "code",
      "source": [
        "fulfillment_counts = data['Fulfilment'].value_counts(normalize=True) * 100"
      ],
      "metadata": {
        "id": "oAtwUt3X11up"
      },
      "execution_count": null,
      "outputs": []
    },
    {
      "cell_type": "code",
      "source": [
        "# Fulfillment by Amazon vs Merchant\n",
        "plt.figure(figsize=(6, 6))\n",
        "fulfillment_counts.plot(kind='pie', autopct='%1.1f%%', colors=['lightcoral', 'lightblue'], startangle=90)\n",
        "plt.title('Percentage of Orders Fulfilled by Amazon vs Merchant')\n",
        "plt.ylabel('')\n",
        "plt.show()\n"
      ],
      "metadata": {
        "colab": {
          "base_uri": "https://localhost:8080/",
          "height": 521
        },
        "id": "ShNFAgNsu8-R",
        "outputId": "f6b2901e-bbc2-43a8-d596-a41317885d6c"
      },
      "execution_count": null,
      "outputs": [
        {
          "output_type": "display_data",
          "data": {
            "text/plain": [
              "<Figure size 600x600 with 1 Axes>"
            ],
            "image/png": "[encoded data removed]"
          },
          "metadata": {}
        }
      ]
    },
    {
      "cell_type": "markdown",
      "source": [
        "# Average Quantity Ordered by Category"
      ],
      "metadata": {
        "id": "KCsLaBIz6ui0"
      }
    },
    {
      "cell_type": "code",
      "source": [
        "average_quantity_per_category = data.groupby('Category')['Qty'].mean().sort_values(ascending=False).head(10)\n"
      ],
      "metadata": {
        "id": "6YJAtGth4YF2"
      },
      "execution_count": null,
      "outputs": []
    },
    {
      "cell_type": "code",
      "source": [
        "\n",
        "plt.figure(figsize=(10, 6))\n",
        "average_quantity_per_category.plot(kind='bar', color='darkorange')\n",
        "plt.title('Average Quantity Ordered per Category')\n",
        "plt.ylabel('Average Quantity')\n",
        "plt.show()\n"
      ],
      "metadata": {
        "colab": {
          "base_uri": "https://localhost:8080/",
          "height": 650
        },
        "id": "EdD3K_CB2hZp",
        "outputId": "ea72abad-40d6-446a-ef3a-0aaa6b8f0309"
      },
      "execution_count": null,
      "outputs": [
        {
          "output_type": "display_data",
          "data": {
            "text/plain": [
              "<Figure size 1000x600 with 1 Axes>"
            ],
            "image/png": "[encoded data removed]"
          },
          "metadata": {}
        }
      ]
    },
    {
      "cell_type": "markdown",
      "source": [
        "# Overall Cancellation"
      ],
      "metadata": {
        "id": "G0K1UdNf67JN"
      }
    },
    {
      "cell_type": "code",
      "source": [
        "# Calculate the count of specific values in the 'Calculated Status' column\n",
        "return_and_cancelled_counts = data['Status'].value_counts()\n",
        "\n",
        "# Filter the counts for 'Shipped - Return to Seller', 'Cancelled', and 'Shipped - Returning to Seller'\n",
        "specific_status_counts = return_and_cancelled_counts[\n",
        "    return_and_cancelled_counts.index.isin(['Shipped - Returned to Seller', 'Cancelled', 'Shipped - Returning to Seller'])\n",
        "]\n",
        "\n",
        "# Calculate the total count of the filtered statuses\n",
        "cancelled_orders = specific_status_counts.sum()\n",
        "\n",
        "# Display the specific counts and total\n",
        "specific_status_counts, total_count"
      ],
      "metadata": {
        "colab": {
          "base_uri": "https://localhost:8080/"
        },
        "id": "uyFPm7kHWa0N",
        "outputId": "2967584d-ad93-4cfc-83a7-47b2ad243dde"
      },
      "execution_count": null,
      "outputs": [
        {
          "output_type": "execute_result",
          "data": {
            "text/plain": [
              "(Status\n",
              " Cancelled                        18338\n",
              " Shipped - Returned to Seller      1953\n",
              " Shipped - Returning to Seller      145\n",
              " Name: count, dtype: int64,\n",
              " 20436)"
            ]
          },
          "metadata": {},
          "execution_count": 29
        }
      ]
    },
    {
      "cell_type": "code",
      "source": [
        "cancelled_orders"
      ],
      "metadata": {
        "colab": {
          "base_uri": "https://localhost:8080/"
        },
        "id": "uukf6osMRQRA",
        "outputId": "842fc940-ab7f-49f4-c2f8-92ac8201b17f"
      },
      "execution_count": null,
      "outputs": [
        {
          "output_type": "execute_result",
          "data": {
            "text/plain": [
              "20436"
            ]
          },
          "metadata": {},
          "execution_count": 30
        }
      ]
    },
    {
      "cell_type": "markdown",
      "source": [
        "# Grouping by categories to find the problematic categories"
      ],
      "metadata": {
        "id": "TIcddUx98lKF"
      }
    },
    {
      "cell_type": "code",
      "source": [
        "\n",
        "category_cancellations = data[data['Status'] == 'Cancelled'].groupby('Category')['Order ID'].count().sort_values(ascending=False).head(10)\n",
        "\n",
        "# Top 10 Categories by Cancellations\n",
        "plt.figure(figsize=(10, 6))\n",
        "category_cancellations.plot(kind='bar', color='darkred')\n",
        "plt.title('Top 10 Categories by Cancellations')\n",
        "plt.ylabel('Number of Cancelled Orders')\n",
        "plt.show()"
      ],
      "metadata": {
        "colab": {
          "base_uri": "https://localhost:8080/",
          "height": 650
        },
        "id": "9N63ZRbj5UmQ",
        "outputId": "a4a32768-bae2-4ef5-a602-c431837e0b54"
      },
      "execution_count": null,
      "outputs": [
        {
          "output_type": "display_data",
          "data": {
            "text/plain": [
              "<Figure size 1000x600 with 1 Axes>"
            ],
            "image/png": "[encoded data removed]"
          },
          "metadata": {}
        }
      ]
    },
    {
      "cell_type": "markdown",
      "source": [
        "# conclusion"
      ],
      "metadata": {
        "id": "e8Ql1n_e9SDT"
      }
    },
    {
      "cell_type": "markdown",
      "source": [
        "1.\tTotal Revenue: The total revenue generated during the analyzed period is ₹71,772,313.62 .suggesting seasonal growth likely due to sales events or holidays.\n",
        "2.\tTop-Selling Product Categories: The Set category led the sales, contributing to a significant portion of the total revenue. It was followed by Kurta and Western Dress categories, which also performed well.\n",
        "3.\tAverage Order Value (AOV): The average order value is calculated to be ₹596.3 , indicating the typical spending pattern of customers per order.\n",
        "4.\tFulfillment Methods: Orders fulfilled by Amazon generated higher revenue compared to those fulfilled by Merchants. Amazon’s fulfillment accounted for 69.5% of total Orders, highlighting its efficiency in managing orders. Refer the pie chart for better understanding.\n",
        "5.\tPeak Sales Days : The Day of Sunday saw the highest sales volume, while Tuesday and Wednesday also showed strong performance. Thursday had significantly lower sales . Refer the Column chart for better understanding.\n",
        "6.\tReturn and Cancellation Rates: The overall cancellation rate stands at approximately 16% , affecting the company’s profitability. A deeper analysis indicates that Set and Kurta items had the highest return and cancellation rates .\n",
        "7.\tTop Cities for Sales: , Bangalore, Hyderabad and Mumbai were the top-performing cities in terms of sales, collectively contributing to total revenue. These cities were key markets for the company’s growth.\n",
        "8.\tB2B vs B2C Sales: B2C customers exhibited higher average order values, with bulk orders for Kurta and Set items. B2B customers were more price-sensitive, reflected in smaller, more frequent orders.\n",
        "These conclusions provide actionable insights for improving logistics, customer satisfaction, and overall revenue growth(Problem Statement).\n"
      ],
      "metadata": {
        "id": "fYXxKr5VgrH3"
      }
    },
    {
      "cell_type": "markdown",
      "source": [
        "\n",
        "# Based on the exploratory data analysis (EDA) and the insights gathered, here are several recommendations to help the e-commerce company.\n"
      ],
      "metadata": {
        "id": "jjGCvMBY9H0y"
      }
    },
    {
      "cell_type": "markdown",
      "source": [
        "1.\tAddress High return rates, especially in clothing, by improving product descriptions with detailed sizing guides and introducing size recommendation tools or virtual fitting rooms.\n",
        "2.\tCapitalize on peak sales periods, By planning targeted marketing campaigns and offering discounts during off-peak months to balance revenue across the year.\n",
        "3.\tImplement loyalty programs, personalized offers, and smaller bundle packages to increase average order value and customer retention in the B2C segment.\n",
        "4.\tInvest in localized marketing and improved delivery options (e.g., same-day delivery) in top cities like Mumbai, Bangalore, and Chennai to enhance the customer experience.\n",
        "5.\tReduce order cancellations by introducing real-time stock tracking and sending timely notifications to customers about delayed or out-of-stock items.\n",
        "6.\tRegularly collect and analyze customer feedback to address pain points related to returns, cancellations, and overall satisfaction, leading to improved retention.\n",
        "\n",
        "\n",
        "> Add blockquote\n",
        "\n"
      ],
      "metadata": {
        "id": "rH86BfGPs5oU"
      }
    },
    {
      "cell_type": "code",
      "source": [],
      "metadata": {
        "id": "9d2jwfWHtG9Z"
      },
      "execution_count": null,
      "outputs": []
    }
  ]
}